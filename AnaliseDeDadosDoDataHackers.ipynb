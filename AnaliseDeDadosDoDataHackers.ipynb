{
 "cells": [
  {
   "cell_type": "markdown",
   "metadata": {},
   "source": [
    "### Análise de dados com dados fornecidos pelo data hackers"
   ]
  },
  {
   "cell_type": "markdown",
   "metadata": {},
   "source": [
    "Dados da pesquisa realizada pelo data hackers e disponibilizada no Kaggle com dados coletados de cientistas de dados de diversas regioes brasileiras a fim de entender melhor a realidade dos profissionais de ciencia de dados no Brasil.\n",
    "\n",
    "link com o dataset: https://www.kaggle.com/datahackers/pesquisa-data-hackers-2019?select=datahackers-survey-2019-anonymous-responses.csv"
   ]
  },
  {
   "cell_type": "code",
   "execution_count": 1,
   "metadata": {},
   "outputs": [
    {
     "name": "stderr",
     "output_type": "stream",
     "text": [
      "C:\\ProgramData\\Anaconda3\\lib\\site-packages\\statsmodels\\tools\\_testing.py:19: FutureWarning: pandas.util.testing is deprecated. Use the functions in the public API at pandas.testing instead.\n",
      "  import pandas.util.testing as tm\n"
     ]
    }
   ],
   "source": [
    "# import dos modulos\n",
    "import pandas as pd\n",
    "import numpy as np\n",
    "import matplotlib.pyplot as plot\n",
    "import seaborn as sns\n",
    "import warnings\n",
    "warnings.filterwarnings(\"ignore\")\n",
    "%matplotlib inline"
   ]
  },
  {
   "cell_type": "markdown",
   "metadata": {},
   "source": [
    "### Carga dos dados"
   ]
  },
  {
   "cell_type": "code",
   "execution_count": 2,
   "metadata": {},
   "outputs": [],
   "source": [
    "# Carregando os dados\n",
    "data = pd.read_csv(\"dataHackers.csv\", sep = \",\")"
   ]
  },
  {
   "cell_type": "code",
   "execution_count": 3,
   "metadata": {},
   "outputs": [
    {
     "data": {
      "text/plain": [
       "(1765, 170)"
      ]
     },
     "execution_count": 3,
     "metadata": {},
     "output_type": "execute_result"
    }
   ],
   "source": [
    "# Verificando o numero de registros\n",
    "data.shape"
   ]
  },
  {
   "cell_type": "code",
   "execution_count": 4,
   "metadata": {},
   "outputs": [
    {
     "data": {
      "text/plain": [
       "('P0', 'id')                           object\n",
       "('P1', 'age')                         float64\n",
       "('P2', 'gender')                       object\n",
       "('P3', 'living_in_brasil')              int64\n",
       "('P5', 'living_state')                 object\n",
       "                                       ...   \n",
       "('D2', 'origin_macroregion')           object\n",
       "('D3', 'anonymized_degree_area')       object\n",
       "('D4', 'anonymized_market_sector')     object\n",
       "('D5', 'anonymized_manager_level')     object\n",
       "('D6', 'anonymized_role')              object\n",
       "Length: 170, dtype: object"
      ]
     },
     "execution_count": 4,
     "metadata": {},
     "output_type": "execute_result"
    }
   ],
   "source": [
    "data.dtypes"
   ]
  },
  {
   "cell_type": "code",
   "execution_count": 5,
   "metadata": {},
   "outputs": [
    {
     "data": {
      "text/html": [
       "<div>\n",
       "<style scoped>\n",
       "    .dataframe tbody tr th:only-of-type {\n",
       "        vertical-align: middle;\n",
       "    }\n",
       "\n",
       "    .dataframe tbody tr th {\n",
       "        vertical-align: top;\n",
       "    }\n",
       "\n",
       "    .dataframe thead th {\n",
       "        text-align: right;\n",
       "    }\n",
       "</style>\n",
       "<table border=\"1\" class=\"dataframe\">\n",
       "  <thead>\n",
       "    <tr style=\"text-align: right;\">\n",
       "      <th></th>\n",
       "      <th>('P1', 'age')</th>\n",
       "      <th>('P3', 'living_in_brasil')</th>\n",
       "      <th>('P6', 'born_or_graduated')</th>\n",
       "      <th>('P13', 'manager')</th>\n",
       "      <th>('P19', 'is_data_science_professional')</th>\n",
       "      <th>('P20', 'linear_regression')</th>\n",
       "      <th>('P20', 'logistic_regression')</th>\n",
       "      <th>('P20', 'glms')</th>\n",
       "      <th>('P20', 'decision_tree')</th>\n",
       "      <th>('P20', 'random_forest')</th>\n",
       "      <th>...</th>\n",
       "      <th>('P34', 'coursera')</th>\n",
       "      <th>('P34', 'udemy')</th>\n",
       "      <th>('P34', 'height')</th>\n",
       "      <th>('P34', 'edx')</th>\n",
       "      <th>('P34', 'data_camp')</th>\n",
       "      <th>('P34', 'data_quest')</th>\n",
       "      <th>('P34', 'kaggle_learn')</th>\n",
       "      <th>('P34', 'online_courses')</th>\n",
       "      <th>('P34', 'other')</th>\n",
       "      <th>('P36', 'draw_participation')</th>\n",
       "    </tr>\n",
       "  </thead>\n",
       "  <tbody>\n",
       "    <tr>\n",
       "      <th>count</th>\n",
       "      <td>1741.000000</td>\n",
       "      <td>1765.000000</td>\n",
       "      <td>1731.000000</td>\n",
       "      <td>1527.000000</td>\n",
       "      <td>1765.000000</td>\n",
       "      <td>1765.000000</td>\n",
       "      <td>1765.000000</td>\n",
       "      <td>1765.000000</td>\n",
       "      <td>1765.000000</td>\n",
       "      <td>1765.000000</td>\n",
       "      <td>...</td>\n",
       "      <td>1765.000000</td>\n",
       "      <td>1765.000000</td>\n",
       "      <td>1765.000000</td>\n",
       "      <td>1765.000000</td>\n",
       "      <td>1765.000000</td>\n",
       "      <td>1765.000000</td>\n",
       "      <td>1765.000000</td>\n",
       "      <td>1765.000000</td>\n",
       "      <td>1765.000000</td>\n",
       "      <td>1761.000000</td>\n",
       "    </tr>\n",
       "    <tr>\n",
       "      <th>mean</th>\n",
       "      <td>29.800689</td>\n",
       "      <td>0.980737</td>\n",
       "      <td>0.810514</td>\n",
       "      <td>0.199738</td>\n",
       "      <td>0.518414</td>\n",
       "      <td>0.296884</td>\n",
       "      <td>0.230028</td>\n",
       "      <td>0.075921</td>\n",
       "      <td>0.249858</td>\n",
       "      <td>0.203399</td>\n",
       "      <td>...</td>\n",
       "      <td>0.392635</td>\n",
       "      <td>0.637394</td>\n",
       "      <td>0.170538</td>\n",
       "      <td>0.166572</td>\n",
       "      <td>0.222096</td>\n",
       "      <td>0.036261</td>\n",
       "      <td>0.179037</td>\n",
       "      <td>0.095184</td>\n",
       "      <td>0.134844</td>\n",
       "      <td>0.813174</td>\n",
       "    </tr>\n",
       "    <tr>\n",
       "      <th>std</th>\n",
       "      <td>6.595795</td>\n",
       "      <td>0.137488</td>\n",
       "      <td>0.392007</td>\n",
       "      <td>0.399934</td>\n",
       "      <td>0.499802</td>\n",
       "      <td>0.457014</td>\n",
       "      <td>0.420970</td>\n",
       "      <td>0.264946</td>\n",
       "      <td>0.433054</td>\n",
       "      <td>0.402641</td>\n",
       "      <td>...</td>\n",
       "      <td>0.488475</td>\n",
       "      <td>0.480889</td>\n",
       "      <td>0.376212</td>\n",
       "      <td>0.372699</td>\n",
       "      <td>0.415773</td>\n",
       "      <td>0.186991</td>\n",
       "      <td>0.383492</td>\n",
       "      <td>0.293552</td>\n",
       "      <td>0.341654</td>\n",
       "      <td>0.389882</td>\n",
       "    </tr>\n",
       "    <tr>\n",
       "      <th>min</th>\n",
       "      <td>18.000000</td>\n",
       "      <td>0.000000</td>\n",
       "      <td>0.000000</td>\n",
       "      <td>0.000000</td>\n",
       "      <td>0.000000</td>\n",
       "      <td>0.000000</td>\n",
       "      <td>0.000000</td>\n",
       "      <td>0.000000</td>\n",
       "      <td>0.000000</td>\n",
       "      <td>0.000000</td>\n",
       "      <td>...</td>\n",
       "      <td>0.000000</td>\n",
       "      <td>0.000000</td>\n",
       "      <td>0.000000</td>\n",
       "      <td>0.000000</td>\n",
       "      <td>0.000000</td>\n",
       "      <td>0.000000</td>\n",
       "      <td>0.000000</td>\n",
       "      <td>0.000000</td>\n",
       "      <td>0.000000</td>\n",
       "      <td>0.000000</td>\n",
       "    </tr>\n",
       "    <tr>\n",
       "      <th>25%</th>\n",
       "      <td>25.000000</td>\n",
       "      <td>1.000000</td>\n",
       "      <td>1.000000</td>\n",
       "      <td>0.000000</td>\n",
       "      <td>0.000000</td>\n",
       "      <td>0.000000</td>\n",
       "      <td>0.000000</td>\n",
       "      <td>0.000000</td>\n",
       "      <td>0.000000</td>\n",
       "      <td>0.000000</td>\n",
       "      <td>...</td>\n",
       "      <td>0.000000</td>\n",
       "      <td>0.000000</td>\n",
       "      <td>0.000000</td>\n",
       "      <td>0.000000</td>\n",
       "      <td>0.000000</td>\n",
       "      <td>0.000000</td>\n",
       "      <td>0.000000</td>\n",
       "      <td>0.000000</td>\n",
       "      <td>0.000000</td>\n",
       "      <td>1.000000</td>\n",
       "    </tr>\n",
       "    <tr>\n",
       "      <th>50%</th>\n",
       "      <td>29.000000</td>\n",
       "      <td>1.000000</td>\n",
       "      <td>1.000000</td>\n",
       "      <td>0.000000</td>\n",
       "      <td>1.000000</td>\n",
       "      <td>0.000000</td>\n",
       "      <td>0.000000</td>\n",
       "      <td>0.000000</td>\n",
       "      <td>0.000000</td>\n",
       "      <td>0.000000</td>\n",
       "      <td>...</td>\n",
       "      <td>0.000000</td>\n",
       "      <td>1.000000</td>\n",
       "      <td>0.000000</td>\n",
       "      <td>0.000000</td>\n",
       "      <td>0.000000</td>\n",
       "      <td>0.000000</td>\n",
       "      <td>0.000000</td>\n",
       "      <td>0.000000</td>\n",
       "      <td>0.000000</td>\n",
       "      <td>1.000000</td>\n",
       "    </tr>\n",
       "    <tr>\n",
       "      <th>75%</th>\n",
       "      <td>34.000000</td>\n",
       "      <td>1.000000</td>\n",
       "      <td>1.000000</td>\n",
       "      <td>0.000000</td>\n",
       "      <td>1.000000</td>\n",
       "      <td>1.000000</td>\n",
       "      <td>0.000000</td>\n",
       "      <td>0.000000</td>\n",
       "      <td>0.000000</td>\n",
       "      <td>0.000000</td>\n",
       "      <td>...</td>\n",
       "      <td>1.000000</td>\n",
       "      <td>1.000000</td>\n",
       "      <td>0.000000</td>\n",
       "      <td>0.000000</td>\n",
       "      <td>0.000000</td>\n",
       "      <td>0.000000</td>\n",
       "      <td>0.000000</td>\n",
       "      <td>0.000000</td>\n",
       "      <td>0.000000</td>\n",
       "      <td>1.000000</td>\n",
       "    </tr>\n",
       "    <tr>\n",
       "      <th>max</th>\n",
       "      <td>50.000000</td>\n",
       "      <td>1.000000</td>\n",
       "      <td>1.000000</td>\n",
       "      <td>1.000000</td>\n",
       "      <td>1.000000</td>\n",
       "      <td>1.000000</td>\n",
       "      <td>1.000000</td>\n",
       "      <td>1.000000</td>\n",
       "      <td>1.000000</td>\n",
       "      <td>1.000000</td>\n",
       "      <td>...</td>\n",
       "      <td>1.000000</td>\n",
       "      <td>1.000000</td>\n",
       "      <td>1.000000</td>\n",
       "      <td>1.000000</td>\n",
       "      <td>1.000000</td>\n",
       "      <td>1.000000</td>\n",
       "      <td>1.000000</td>\n",
       "      <td>1.000000</td>\n",
       "      <td>1.000000</td>\n",
       "      <td>1.000000</td>\n",
       "    </tr>\n",
       "  </tbody>\n",
       "</table>\n",
       "<p>8 rows × 151 columns</p>\n",
       "</div>"
      ],
      "text/plain": [
       "       ('P1', 'age')  ('P3', 'living_in_brasil')  ('P6', 'born_or_graduated')  \\\n",
       "count    1741.000000                 1765.000000                  1731.000000   \n",
       "mean       29.800689                    0.980737                     0.810514   \n",
       "std         6.595795                    0.137488                     0.392007   \n",
       "min        18.000000                    0.000000                     0.000000   \n",
       "25%        25.000000                    1.000000                     1.000000   \n",
       "50%        29.000000                    1.000000                     1.000000   \n",
       "75%        34.000000                    1.000000                     1.000000   \n",
       "max        50.000000                    1.000000                     1.000000   \n",
       "\n",
       "       ('P13', 'manager')  ('P19', 'is_data_science_professional')  \\\n",
       "count         1527.000000                              1765.000000   \n",
       "mean             0.199738                                 0.518414   \n",
       "std              0.399934                                 0.499802   \n",
       "min              0.000000                                 0.000000   \n",
       "25%              0.000000                                 0.000000   \n",
       "50%              0.000000                                 1.000000   \n",
       "75%              0.000000                                 1.000000   \n",
       "max              1.000000                                 1.000000   \n",
       "\n",
       "       ('P20', 'linear_regression')  ('P20', 'logistic_regression')  \\\n",
       "count                   1765.000000                     1765.000000   \n",
       "mean                       0.296884                        0.230028   \n",
       "std                        0.457014                        0.420970   \n",
       "min                        0.000000                        0.000000   \n",
       "25%                        0.000000                        0.000000   \n",
       "50%                        0.000000                        0.000000   \n",
       "75%                        1.000000                        0.000000   \n",
       "max                        1.000000                        1.000000   \n",
       "\n",
       "       ('P20', 'glms')  ('P20', 'decision_tree')  ('P20', 'random_forest')  \\\n",
       "count      1765.000000               1765.000000               1765.000000   \n",
       "mean          0.075921                  0.249858                  0.203399   \n",
       "std           0.264946                  0.433054                  0.402641   \n",
       "min           0.000000                  0.000000                  0.000000   \n",
       "25%           0.000000                  0.000000                  0.000000   \n",
       "50%           0.000000                  0.000000                  0.000000   \n",
       "75%           0.000000                  0.000000                  0.000000   \n",
       "max           1.000000                  1.000000                  1.000000   \n",
       "\n",
       "       ...  ('P34', 'coursera')  ('P34', 'udemy')  ('P34', 'height')  \\\n",
       "count  ...          1765.000000       1765.000000        1765.000000   \n",
       "mean   ...             0.392635          0.637394           0.170538   \n",
       "std    ...             0.488475          0.480889           0.376212   \n",
       "min    ...             0.000000          0.000000           0.000000   \n",
       "25%    ...             0.000000          0.000000           0.000000   \n",
       "50%    ...             0.000000          1.000000           0.000000   \n",
       "75%    ...             1.000000          1.000000           0.000000   \n",
       "max    ...             1.000000          1.000000           1.000000   \n",
       "\n",
       "       ('P34', 'edx')  ('P34', 'data_camp')  ('P34', 'data_quest')  \\\n",
       "count     1765.000000           1765.000000            1765.000000   \n",
       "mean         0.166572              0.222096               0.036261   \n",
       "std          0.372699              0.415773               0.186991   \n",
       "min          0.000000              0.000000               0.000000   \n",
       "25%          0.000000              0.000000               0.000000   \n",
       "50%          0.000000              0.000000               0.000000   \n",
       "75%          0.000000              0.000000               0.000000   \n",
       "max          1.000000              1.000000               1.000000   \n",
       "\n",
       "       ('P34', 'kaggle_learn')  ('P34', 'online_courses')  ('P34', 'other')  \\\n",
       "count              1765.000000                1765.000000       1765.000000   \n",
       "mean                  0.179037                   0.095184          0.134844   \n",
       "std                   0.383492                   0.293552          0.341654   \n",
       "min                   0.000000                   0.000000          0.000000   \n",
       "25%                   0.000000                   0.000000          0.000000   \n",
       "50%                   0.000000                   0.000000          0.000000   \n",
       "75%                   0.000000                   0.000000          0.000000   \n",
       "max                   1.000000                   1.000000          1.000000   \n",
       "\n",
       "       ('P36', 'draw_participation')  \n",
       "count                    1761.000000  \n",
       "mean                        0.813174  \n",
       "std                         0.389882  \n",
       "min                         0.000000  \n",
       "25%                         1.000000  \n",
       "50%                         1.000000  \n",
       "75%                         1.000000  \n",
       "max                         1.000000  \n",
       "\n",
       "[8 rows x 151 columns]"
      ]
     },
     "execution_count": 5,
     "metadata": {},
     "output_type": "execute_result"
    }
   ],
   "source": [
    "# Resumo estatistico das variavies numericas\n",
    "data.describe()"
   ]
  },
  {
   "cell_type": "code",
   "execution_count": 6,
   "metadata": {},
   "outputs": [
    {
     "data": {
      "text/html": [
       "<div>\n",
       "<style scoped>\n",
       "    .dataframe tbody tr th:only-of-type {\n",
       "        vertical-align: middle;\n",
       "    }\n",
       "\n",
       "    .dataframe tbody tr th {\n",
       "        vertical-align: top;\n",
       "    }\n",
       "\n",
       "    .dataframe thead th {\n",
       "        text-align: right;\n",
       "    }\n",
       "</style>\n",
       "<table border=\"1\" class=\"dataframe\">\n",
       "  <thead>\n",
       "    <tr style=\"text-align: right;\">\n",
       "      <th></th>\n",
       "      <th>('P0', 'id')</th>\n",
       "      <th>('P1', 'age')</th>\n",
       "      <th>('P2', 'gender')</th>\n",
       "      <th>('P3', 'living_in_brasil')</th>\n",
       "      <th>('P5', 'living_state')</th>\n",
       "      <th>('P6', 'born_or_graduated')</th>\n",
       "      <th>('P8', 'degreee_level')</th>\n",
       "      <th>('P10', 'job_situation')</th>\n",
       "      <th>('P12', 'workers_number')</th>\n",
       "      <th>('P13', 'manager')</th>\n",
       "      <th>...</th>\n",
       "      <th>('P34', 'other')</th>\n",
       "      <th>('P35', 'data_science_plataforms_preference')</th>\n",
       "      <th>('P35', 'other')</th>\n",
       "      <th>('P36', 'draw_participation')</th>\n",
       "      <th>('D1', 'living_macroregion')</th>\n",
       "      <th>('D2', 'origin_macroregion')</th>\n",
       "      <th>('D3', 'anonymized_degree_area')</th>\n",
       "      <th>('D4', 'anonymized_market_sector')</th>\n",
       "      <th>('D5', 'anonymized_manager_level')</th>\n",
       "      <th>('D6', 'anonymized_role')</th>\n",
       "    </tr>\n",
       "  </thead>\n",
       "  <tbody>\n",
       "    <tr>\n",
       "      <th>0</th>\n",
       "      <td>v9otv8j9wdvjrv9otvwnn9owhzq54ktv</td>\n",
       "      <td>37.0</td>\n",
       "      <td>Masculino</td>\n",
       "      <td>1</td>\n",
       "      <td>Minas Gerais (MG)</td>\n",
       "      <td>1.0</td>\n",
       "      <td>Estudante de Graduação</td>\n",
       "      <td>Empregado (CTL)</td>\n",
       "      <td>de 1 a 5</td>\n",
       "      <td>0.0</td>\n",
       "      <td>...</td>\n",
       "      <td>0</td>\n",
       "      <td>Nunca fiz cursos online</td>\n",
       "      <td>NaN</td>\n",
       "      <td>1.0</td>\n",
       "      <td>Região Sudeste</td>\n",
       "      <td>NaN</td>\n",
       "      <td>Computação / Engenharia de Software / Sistemas...</td>\n",
       "      <td>Outras</td>\n",
       "      <td>NaN</td>\n",
       "      <td>Outras</td>\n",
       "    </tr>\n",
       "    <tr>\n",
       "      <th>1</th>\n",
       "      <td>875ul998t0hqcv0871uptwf3oswcfv35</td>\n",
       "      <td>24.0</td>\n",
       "      <td>Feminino</td>\n",
       "      <td>1</td>\n",
       "      <td>São Paulo (SP)</td>\n",
       "      <td>1.0</td>\n",
       "      <td>Estudante de Graduação</td>\n",
       "      <td>Empregado (CTL)</td>\n",
       "      <td>Acima de 3000</td>\n",
       "      <td>0.0</td>\n",
       "      <td>...</td>\n",
       "      <td>1</td>\n",
       "      <td>NaN</td>\n",
       "      <td>Data Science Academy</td>\n",
       "      <td>0.0</td>\n",
       "      <td>Região Sudeste</td>\n",
       "      <td>NaN</td>\n",
       "      <td>Computação / Engenharia de Software / Sistemas...</td>\n",
       "      <td>Educação</td>\n",
       "      <td>NaN</td>\n",
       "      <td>Data Analyst/Analista de Dados</td>\n",
       "    </tr>\n",
       "    <tr>\n",
       "      <th>2</th>\n",
       "      <td>puscuk079vw1pusbb900pzw2xvpxtgdk</td>\n",
       "      <td>26.0</td>\n",
       "      <td>Masculino</td>\n",
       "      <td>1</td>\n",
       "      <td>São Paulo (SP)</td>\n",
       "      <td>1.0</td>\n",
       "      <td>Graduação/Bacharelado</td>\n",
       "      <td>Empregado (CTL)</td>\n",
       "      <td>Acima de 3000</td>\n",
       "      <td>0.0</td>\n",
       "      <td>...</td>\n",
       "      <td>0</td>\n",
       "      <td>Udemy</td>\n",
       "      <td>NaN</td>\n",
       "      <td>1.0</td>\n",
       "      <td>Região Sudeste</td>\n",
       "      <td>NaN</td>\n",
       "      <td>Outras Engenharias</td>\n",
       "      <td>Indústria (Manufatura)</td>\n",
       "      <td>NaN</td>\n",
       "      <td>Outras</td>\n",
       "    </tr>\n",
       "    <tr>\n",
       "      <th>3</th>\n",
       "      <td>rmel8ewqpbffp2mnfbzermel8eqincov</td>\n",
       "      <td>21.0</td>\n",
       "      <td>Masculino</td>\n",
       "      <td>1</td>\n",
       "      <td>São Paulo (SP)</td>\n",
       "      <td>0.0</td>\n",
       "      <td>Estudante de Graduação</td>\n",
       "      <td>Estagiário</td>\n",
       "      <td>de 11 a 50</td>\n",
       "      <td>0.0</td>\n",
       "      <td>...</td>\n",
       "      <td>0</td>\n",
       "      <td>Alura</td>\n",
       "      <td>NaN</td>\n",
       "      <td>1.0</td>\n",
       "      <td>Região Sudeste</td>\n",
       "      <td>Região Sudeste</td>\n",
       "      <td>Computação / Engenharia de Software / Sistemas...</td>\n",
       "      <td>Tecnologia/Fábrica de Software</td>\n",
       "      <td>NaN</td>\n",
       "      <td>Business Intelligence/Analista de BI</td>\n",
       "    </tr>\n",
       "    <tr>\n",
       "      <th>4</th>\n",
       "      <td>pj9mgud4d6mdct1l7vq0pj9mgu78h6ju</td>\n",
       "      <td>27.0</td>\n",
       "      <td>Masculino</td>\n",
       "      <td>1</td>\n",
       "      <td>NaN</td>\n",
       "      <td>1.0</td>\n",
       "      <td>Graduação/Bacharelado</td>\n",
       "      <td>Freelancer</td>\n",
       "      <td>de 6 a 10</td>\n",
       "      <td>1.0</td>\n",
       "      <td>...</td>\n",
       "      <td>0</td>\n",
       "      <td>Udemy</td>\n",
       "      <td>NaN</td>\n",
       "      <td>1.0</td>\n",
       "      <td>NaN</td>\n",
       "      <td>NaN</td>\n",
       "      <td>Computação / Engenharia de Software / Sistemas...</td>\n",
       "      <td>Internet/Ecommerce</td>\n",
       "      <td>C-level (CDO, CIO, CTO)</td>\n",
       "      <td>NaN</td>\n",
       "    </tr>\n",
       "  </tbody>\n",
       "</table>\n",
       "<p>5 rows × 170 columns</p>\n",
       "</div>"
      ],
      "text/plain": [
       "                       ('P0', 'id')  ('P1', 'age') ('P2', 'gender')  \\\n",
       "0  v9otv8j9wdvjrv9otvwnn9owhzq54ktv           37.0        Masculino   \n",
       "1  875ul998t0hqcv0871uptwf3oswcfv35           24.0         Feminino   \n",
       "2  puscuk079vw1pusbb900pzw2xvpxtgdk           26.0        Masculino   \n",
       "3  rmel8ewqpbffp2mnfbzermel8eqincov           21.0        Masculino   \n",
       "4  pj9mgud4d6mdct1l7vq0pj9mgu78h6ju           27.0        Masculino   \n",
       "\n",
       "   ('P3', 'living_in_brasil') ('P5', 'living_state')  \\\n",
       "0                           1      Minas Gerais (MG)   \n",
       "1                           1         São Paulo (SP)   \n",
       "2                           1         São Paulo (SP)   \n",
       "3                           1         São Paulo (SP)   \n",
       "4                           1                    NaN   \n",
       "\n",
       "   ('P6', 'born_or_graduated') ('P8', 'degreee_level')  \\\n",
       "0                          1.0  Estudante de Graduação   \n",
       "1                          1.0  Estudante de Graduação   \n",
       "2                          1.0   Graduação/Bacharelado   \n",
       "3                          0.0  Estudante de Graduação   \n",
       "4                          1.0   Graduação/Bacharelado   \n",
       "\n",
       "  ('P10', 'job_situation') ('P12', 'workers_number')  ('P13', 'manager')  ...  \\\n",
       "0          Empregado (CTL)                  de 1 a 5                 0.0  ...   \n",
       "1          Empregado (CTL)             Acima de 3000                 0.0  ...   \n",
       "2          Empregado (CTL)             Acima de 3000                 0.0  ...   \n",
       "3               Estagiário                de 11 a 50                 0.0  ...   \n",
       "4               Freelancer                 de 6 a 10                 1.0  ...   \n",
       "\n",
       "  ('P34', 'other') ('P35', 'data_science_plataforms_preference')  \\\n",
       "0                0                       Nunca fiz cursos online   \n",
       "1                1                                           NaN   \n",
       "2                0                                         Udemy   \n",
       "3                0                                         Alura   \n",
       "4                0                                         Udemy   \n",
       "\n",
       "       ('P35', 'other')  ('P36', 'draw_participation')  \\\n",
       "0                   NaN                            1.0   \n",
       "1  Data Science Academy                            0.0   \n",
       "2                   NaN                            1.0   \n",
       "3                   NaN                            1.0   \n",
       "4                   NaN                            1.0   \n",
       "\n",
       "   ('D1', 'living_macroregion')  ('D2', 'origin_macroregion')  \\\n",
       "0                Região Sudeste                           NaN   \n",
       "1                Região Sudeste                           NaN   \n",
       "2                Região Sudeste                           NaN   \n",
       "3                Região Sudeste                Região Sudeste   \n",
       "4                           NaN                           NaN   \n",
       "\n",
       "                    ('D3', 'anonymized_degree_area')  \\\n",
       "0  Computação / Engenharia de Software / Sistemas...   \n",
       "1  Computação / Engenharia de Software / Sistemas...   \n",
       "2                                 Outras Engenharias   \n",
       "3  Computação / Engenharia de Software / Sistemas...   \n",
       "4  Computação / Engenharia de Software / Sistemas...   \n",
       "\n",
       "   ('D4', 'anonymized_market_sector')  ('D5', 'anonymized_manager_level')  \\\n",
       "0                              Outras                                 NaN   \n",
       "1                            Educação                                 NaN   \n",
       "2              Indústria (Manufatura)                                 NaN   \n",
       "3      Tecnologia/Fábrica de Software                                 NaN   \n",
       "4                  Internet/Ecommerce             C-level (CDO, CIO, CTO)   \n",
       "\n",
       "              ('D6', 'anonymized_role')  \n",
       "0                                Outras  \n",
       "1        Data Analyst/Analista de Dados  \n",
       "2                                Outras  \n",
       "3  Business Intelligence/Analista de BI  \n",
       "4                                   NaN  \n",
       "\n",
       "[5 rows x 170 columns]"
      ]
     },
     "execution_count": 6,
     "metadata": {},
     "output_type": "execute_result"
    }
   ],
   "source": [
    "# Visualizando as primeiras linhas do dataset\n",
    "data.head()"
   ]
  },
  {
   "cell_type": "code",
   "execution_count": 7,
   "metadata": {},
   "outputs": [
    {
     "data": {
      "text/plain": [
       "Index(['('P0', 'id')', '('P1', 'age')', '('P2', 'gender')',\n",
       "       '('P3', 'living_in_brasil')', '('P5', 'living_state')',\n",
       "       '('P6', 'born_or_graduated')', '('P8', 'degreee_level')',\n",
       "       '('P10', 'job_situation')', '('P12', 'workers_number')',\n",
       "       '('P13', 'manager')',\n",
       "       ...\n",
       "       '('P34', 'other')', '('P35', 'data_science_plataforms_preference')',\n",
       "       '('P35', 'other')', '('P36', 'draw_participation')',\n",
       "       '('D1', 'living_macroregion')', '('D2', 'origin_macroregion')',\n",
       "       '('D3', 'anonymized_degree_area')',\n",
       "       '('D4', 'anonymized_market_sector')',\n",
       "       '('D5', 'anonymized_manager_level')', '('D6', 'anonymized_role')'],\n",
       "      dtype='object', length=170)"
      ]
     },
     "execution_count": 7,
     "metadata": {},
     "output_type": "execute_result"
    }
   ],
   "source": [
    "# Verificando as colunas\n",
    "data.columns"
   ]
  },
  {
   "cell_type": "code",
   "execution_count": 8,
   "metadata": {},
   "outputs": [
    {
     "data": {
      "text/plain": [
       "('P0', 'id')                          False\n",
       "('P1', 'age')                          True\n",
       "('P2', 'gender')                       True\n",
       "('P3', 'living_in_brasil')            False\n",
       "('P5', 'living_state')                 True\n",
       "                                      ...  \n",
       "('D2', 'origin_macroregion')           True\n",
       "('D3', 'anonymized_degree_area')       True\n",
       "('D4', 'anonymized_market_sector')     True\n",
       "('D5', 'anonymized_manager_level')     True\n",
       "('D6', 'anonymized_role')              True\n",
       "Length: 170, dtype: bool"
      ]
     },
     "execution_count": 8,
     "metadata": {},
     "output_type": "execute_result"
    }
   ],
   "source": [
    "# Verificando os valores nulos\n",
    "data.isnull().any()"
   ]
  },
  {
   "cell_type": "markdown",
   "metadata": {},
   "source": [
    "### Análise dos dados"
   ]
  },
  {
   "cell_type": "markdown",
   "metadata": {},
   "source": [
    "### Idade"
   ]
  },
  {
   "cell_type": "code",
   "execution_count": 9,
   "metadata": {},
   "outputs": [
    {
     "data": {
      "text/plain": [
       "0    37.0\n",
       "1    24.0\n",
       "2    26.0\n",
       "3    21.0\n",
       "4    27.0\n",
       "5    27.0\n",
       "6    34.0\n",
       "7    37.0\n",
       "8    26.0\n",
       "9    28.0\n",
       "Name: ('P1', 'age'), dtype: float64"
      ]
     },
     "execution_count": 9,
     "metadata": {},
     "output_type": "execute_result"
    }
   ],
   "source": [
    "# Analisando a idade\n",
    "idade = data.iloc[:,1]\n",
    "idade.head(10)"
   ]
  },
  {
   "cell_type": "code",
   "execution_count": 10,
   "metadata": {},
   "outputs": [
    {
     "data": {
      "text/plain": [
       "29.800689259046525"
      ]
     },
     "execution_count": 10,
     "metadata": {},
     "output_type": "execute_result"
    }
   ],
   "source": [
    "# Idade media dos entrevistados\n",
    "idade.mean()"
   ]
  },
  {
   "cell_type": "code",
   "execution_count": 11,
   "metadata": {},
   "outputs": [
    {
     "data": {
      "text/plain": [
       "50.0"
      ]
     },
     "execution_count": 11,
     "metadata": {},
     "output_type": "execute_result"
    }
   ],
   "source": [
    "# Entrevistados mais velhos\n",
    "idade.max()"
   ]
  },
  {
   "cell_type": "code",
   "execution_count": 12,
   "metadata": {},
   "outputs": [
    {
     "data": {
      "text/plain": [
       "18.0"
      ]
     },
     "execution_count": 12,
     "metadata": {},
     "output_type": "execute_result"
    }
   ],
   "source": [
    "# Entrevistados mais novos\n",
    "idade.min()"
   ]
  },
  {
   "cell_type": "code",
   "execution_count": 13,
   "metadata": {},
   "outputs": [
    {
     "data": {
      "text/plain": [
       "32.0"
      ]
     },
     "execution_count": 13,
     "metadata": {},
     "output_type": "execute_result"
    }
   ],
   "source": [
    "# Amplitude da variavel idade\n",
    "amplitude = idade.max() - idade.min()\n",
    "amplitude"
   ]
  },
  {
   "cell_type": "code",
   "execution_count": 80,
   "metadata": {},
   "outputs": [
    {
     "data": {
      "text/plain": [
       "(array([119., 280., 338., 312., 235., 226.,  98.,  59.,  39.,  35.]),\n",
       " array([18. , 21.2, 24.4, 27.6, 30.8, 34. , 37.2, 40.4, 43.6, 46.8, 50. ]),\n",
       " <a list of 10 Patch objects>)"
      ]
     },
     "execution_count": 80,
     "metadata": {},
     "output_type": "execute_result"
    },
    {
     "data": {
      "image/png": "[encoded data removed]",
      "text/plain": [
       "<Figure size 432x288 with 1 Axes>"
      ]
     },
     "metadata": {},
     "output_type": "display_data"
    }
   ],
   "source": [
    "# Distribuição da variavel\n",
    "plot.hist(idade, edgecolor = \"black\")"
   ]
  },
  {
   "cell_type": "markdown",
   "metadata": {},
   "source": [
    "#### É possivel observar que grande maioria dos participantes tem entre 21 e 37 anos"
   ]
  },
  {
   "cell_type": "markdown",
   "metadata": {},
   "source": [
    "### Genero"
   ]
  },
  {
   "cell_type": "code",
   "execution_count": 15,
   "metadata": {},
   "outputs": [],
   "source": [
    "# Obtendo os dados sobre o genero\n",
    "genero = data.iloc[:,2]"
   ]
  },
  {
   "cell_type": "code",
   "execution_count": 16,
   "metadata": {},
   "outputs": [
    {
     "data": {
      "text/plain": [
       "0    Masculino\n",
       "1     Feminino\n",
       "2    Masculino\n",
       "3    Masculino\n",
       "4    Masculino\n",
       "Name: ('P2', 'gender'), dtype: object"
      ]
     },
     "execution_count": 16,
     "metadata": {},
     "output_type": "execute_result"
    }
   ],
   "source": [
    "genero.head()"
   ]
  },
  {
   "cell_type": "code",
   "execution_count": 17,
   "metadata": {},
   "outputs": [
    {
     "data": {
      "text/plain": [
       "True"
      ]
     },
     "execution_count": 17,
     "metadata": {},
     "output_type": "execute_result"
    }
   ],
   "source": [
    "# Verificando valores mising\n",
    "genero.isna().values.any()"
   ]
  },
  {
   "cell_type": "code",
   "execution_count": 18,
   "metadata": {},
   "outputs": [
    {
     "data": {
      "text/plain": [
       "3"
      ]
     },
     "execution_count": 18,
     "metadata": {},
     "output_type": "execute_result"
    }
   ],
   "source": [
    "# Removendo os valores missing\n",
    "genero.isna().sum() # 3 valores NA (como o numero e pequeno optei por eliminar)"
   ]
  },
  {
   "cell_type": "code",
   "execution_count": 19,
   "metadata": {},
   "outputs": [],
   "source": [
    "genero.dropna(inplace = True)"
   ]
  },
  {
   "cell_type": "code",
   "execution_count": 20,
   "metadata": {},
   "outputs": [
    {
     "data": {
      "text/plain": [
       "1762"
      ]
     },
     "execution_count": 20,
     "metadata": {},
     "output_type": "execute_result"
    }
   ],
   "source": [
    "genero.count()"
   ]
  },
  {
   "cell_type": "code",
   "execution_count": 21,
   "metadata": {},
   "outputs": [
    {
     "data": {
      "text/plain": [
       "False"
      ]
     },
     "execution_count": 21,
     "metadata": {},
     "output_type": "execute_result"
    }
   ],
   "source": [
    "# Verificando se os valores mising foram eliminados\n",
    "genero.isna().values.any()"
   ]
  },
  {
   "cell_type": "code",
   "execution_count": 22,
   "metadata": {},
   "outputs": [],
   "source": [
    "# Verificando a distribuição dos dados - (Feminino|Masculino)\n",
    "masculino = []\n",
    "feminino = []\n",
    "for valor in genero.values:\n",
    "    if valor == \"Masculino\":\n",
    "        masculino.append(valor)\n",
    "    else:\n",
    "        feminino.append(valor)"
   ]
  },
  {
   "cell_type": "code",
   "execution_count": 23,
   "metadata": {},
   "outputs": [
    {
     "name": "stdout",
     "output_type": "stream",
     "text": [
      "Porcentagem de Homens: 81.0 %\n"
     ]
    }
   ],
   "source": [
    "# porcentagem de distribuição de homens\n",
    "mascPercent = (len(masculino) / genero.count())\n",
    "print(\"Porcentagem de Homens:\", round(mascPercent*100), \"%\")"
   ]
  },
  {
   "cell_type": "code",
   "execution_count": 24,
   "metadata": {},
   "outputs": [
    {
     "name": "stdout",
     "output_type": "stream",
     "text": [
      "Porcentagem de Mulheres: 19.0 %\n"
     ]
    }
   ],
   "source": [
    "# porcentagem de distribuição de mulheres\n",
    "femPercent = (len(feminino) / genero.count())\n",
    "print(\"Porcentagem de Mulheres:\", round(femPercent*100), \"%\")"
   ]
  },
  {
   "cell_type": "code",
   "execution_count": 25,
   "metadata": {},
   "outputs": [
    {
     "data": {
      "text/plain": [
       "<matplotlib.axes._subplots.AxesSubplot at 0x2472f40b3c8>"
      ]
     },
     "execution_count": 25,
     "metadata": {},
     "output_type": "execute_result"
    },
    {
     "data": {
      "image/png": "[encoded data removed]",
      "text/plain": [
       "<Figure size 432x288 with 1 Axes>"
      ]
     },
     "metadata": {},
     "output_type": "display_data"
    }
   ],
   "source": [
    "sns.set(style=\"darkgrid\")\n",
    "sns.countplot(genero, palette = \"Set1\")"
   ]
  },
  {
   "cell_type": "markdown",
   "metadata": {},
   "source": [
    "### Estado de Origem"
   ]
  },
  {
   "cell_type": "code",
   "execution_count": 26,
   "metadata": {},
   "outputs": [
    {
     "data": {
      "text/plain": [
       "0    Minas Gerais (MG)\n",
       "1       São Paulo (SP)\n",
       "2       São Paulo (SP)\n",
       "3       São Paulo (SP)\n",
       "4                  NaN\n",
       "Name: ('P5', 'living_state'), dtype: object"
      ]
     },
     "execution_count": 26,
     "metadata": {},
     "output_type": "execute_result"
    }
   ],
   "source": [
    "# Separando a coluna\n",
    "estado_origem = data.iloc[:,4]\n",
    "estado_origem.head()"
   ]
  },
  {
   "cell_type": "code",
   "execution_count": 27,
   "metadata": {},
   "outputs": [
    {
     "data": {
      "text/plain": [
       "1428"
      ]
     },
     "execution_count": 27,
     "metadata": {},
     "output_type": "execute_result"
    }
   ],
   "source": [
    "# Numero de registros\n",
    "estado_origem.count()"
   ]
  },
  {
   "cell_type": "code",
   "execution_count": 28,
   "metadata": {},
   "outputs": [
    {
     "data": {
      "text/plain": [
       "True"
      ]
     },
     "execution_count": 28,
     "metadata": {},
     "output_type": "execute_result"
    }
   ],
   "source": [
    "# Verificando valores missing\n",
    "estado_origem.isna().any()"
   ]
  },
  {
   "cell_type": "code",
   "execution_count": 29,
   "metadata": {},
   "outputs": [
    {
     "data": {
      "text/plain": [
       "337"
      ]
     },
     "execution_count": 29,
     "metadata": {},
     "output_type": "execute_result"
    }
   ],
   "source": [
    "# quantidade de valores missing\n",
    "estado_origem.isna().sum()"
   ]
  },
  {
   "cell_type": "code",
   "execution_count": 30,
   "metadata": {},
   "outputs": [],
   "source": [
    "# eliminando os valores missing\n",
    "estado_origem.dropna(inplace = True)"
   ]
  },
  {
   "cell_type": "code",
   "execution_count": 31,
   "metadata": {},
   "outputs": [
    {
     "data": {
      "text/plain": [
       "0"
      ]
     },
     "execution_count": 31,
     "metadata": {},
     "output_type": "execute_result"
    }
   ],
   "source": [
    "# Verificando se os valores NA foram removidos\n",
    "estado_origem.isna().sum()"
   ]
  },
  {
   "cell_type": "code",
   "execution_count": 32,
   "metadata": {},
   "outputs": [
    {
     "data": {
      "text/plain": [
       "array(['Minas Gerais (MG)', 'São Paulo (SP)', 'Paraná (PR)',\n",
       "       'Rio Grande do Sul (RS)', 'Rio de Janeiro (RJ)',\n",
       "       'Espírito Santo (ES)', 'Santa Catarina (SC)'], dtype=object)"
      ]
     },
     "execution_count": 32,
     "metadata": {},
     "output_type": "execute_result"
    }
   ],
   "source": [
    "# Verificando os estados - Temos 7 estados distintos\n",
    "estado_origem.unique()"
   ]
  },
  {
   "cell_type": "code",
   "execution_count": 33,
   "metadata": {},
   "outputs": [
    {
     "data": {
      "text/plain": [
       "São Paulo (SP)            669\n",
       "Minas Gerais (MG)         316\n",
       "Rio de Janeiro (RJ)       147\n",
       "Paraná (PR)               117\n",
       "Santa Catarina (SC)        83\n",
       "Rio Grande do Sul (RS)     69\n",
       "Espírito Santo (ES)        27\n",
       "Name: ('P5', 'living_state'), dtype: int64"
      ]
     },
     "execution_count": 33,
     "metadata": {},
     "output_type": "execute_result"
    }
   ],
   "source": [
    "# Contagem por estado\n",
    "estado_origem.value_counts()"
   ]
  },
  {
   "cell_type": "code",
   "execution_count": 81,
   "metadata": {},
   "outputs": [
    {
     "data": {
      "text/plain": [
       "[Text(0, 0, 'São Paulo (SP)'),\n",
       " Text(0, 0, 'Minas Gerais (MG)'),\n",
       " Text(0, 0, 'Rio de Janeiro (RJ)'),\n",
       " Text(0, 0, 'Paraná (PR)'),\n",
       " Text(0, 0, 'Santa Catarina (SC)'),\n",
       " Text(0, 0, 'Rio Grande do Sul (RS)'),\n",
       " Text(0, 0, 'Espírito Santo (ES)')]"
      ]
     },
     "execution_count": 81,
     "metadata": {},
     "output_type": "execute_result"
    },
    {
     "data": {
      "image/png": "[encoded data removed]",
      "text/plain": [
       "<Figure size 1296x576 with 1 Axes>"
      ]
     },
     "metadata": {},
     "output_type": "display_data"
    }
   ],
   "source": [
    "fig, ax = plot.subplots(figsize = (18, 8))\n",
    "sns.set(style=\"darkgrid\")\n",
    "ax = sns.countplot(estado_origem, palette = \"Set2\", order = [\"São Paulo (SP)\", \"Minas Gerais (MG)\", \"Rio de Janeiro (RJ)\", \n",
    "                                                        \"Paraná (PR)\", \"Santa Catarina (SC)\", \"Rio Grande do Sul (RS)\",\n",
    "                                                        \"Espírito Santo (ES)\"])\n",
    "\n",
    "ax.set_xticklabels(ax.get_xticklabels())"
   ]
  },
  {
   "cell_type": "code",
   "execution_count": 35,
   "metadata": {},
   "outputs": [
    {
     "data": {
      "text/plain": [
       "São Paulo (SP)            0.468487\n",
       "Minas Gerais (MG)         0.221289\n",
       "Rio de Janeiro (RJ)       0.102941\n",
       "Paraná (PR)               0.081933\n",
       "Santa Catarina (SC)       0.058123\n",
       "Rio Grande do Sul (RS)    0.048319\n",
       "Espírito Santo (ES)       0.018908\n",
       "Name: ('P5', 'living_state'), dtype: float64"
      ]
     },
     "execution_count": 35,
     "metadata": {},
     "output_type": "execute_result"
    }
   ],
   "source": [
    "estado_origem.value_counts(\"São Paulo (SP)\")"
   ]
  },
  {
   "cell_type": "markdown",
   "metadata": {},
   "source": [
    "### Nível de Ensino"
   ]
  },
  {
   "cell_type": "code",
   "execution_count": 36,
   "metadata": {},
   "outputs": [
    {
     "data": {
      "text/plain": [
       "0    Estudante de Graduação\n",
       "1    Estudante de Graduação\n",
       "2     Graduação/Bacharelado\n",
       "3    Estudante de Graduação\n",
       "4     Graduação/Bacharelado\n",
       "Name: ('P8', 'degreee_level'), dtype: object"
      ]
     },
     "execution_count": 36,
     "metadata": {},
     "output_type": "execute_result"
    }
   ],
   "source": [
    "nivel_ensino = data.iloc[:,6]\n",
    "nivel_ensino.head()"
   ]
  },
  {
   "cell_type": "code",
   "execution_count": 37,
   "metadata": {},
   "outputs": [
    {
     "data": {
      "text/plain": [
       "0"
      ]
     },
     "execution_count": 37,
     "metadata": {},
     "output_type": "execute_result"
    }
   ],
   "source": [
    "# Verificando valores NA\n",
    "nivel_ensino.isna().sum()"
   ]
  },
  {
   "cell_type": "code",
   "execution_count": 38,
   "metadata": {},
   "outputs": [
    {
     "data": {
      "text/plain": [
       "Graduação/Bacharelado         578\n",
       "Pós-graduação                 527\n",
       "Estudante de Graduação        374\n",
       "Mestrado                      201\n",
       "Doutorado ou Phd               50\n",
       "Não tenho graduação formal     34\n",
       "Prefiro não informar            1\n",
       "Name: ('P8', 'degreee_level'), dtype: int64"
      ]
     },
     "execution_count": 38,
     "metadata": {},
     "output_type": "execute_result"
    }
   ],
   "source": [
    "# Verificando a contagem dos niveis de ensino\n",
    "nivel_ensino.value_counts()"
   ]
  },
  {
   "cell_type": "code",
   "execution_count": 77,
   "metadata": {},
   "outputs": [
    {
     "data": {
      "image/png": "[encoded data removed]",
      "text/plain": [
       "<Figure size 1296x576 with 1 Axes>"
      ]
     },
     "metadata": {},
     "output_type": "display_data"
    }
   ],
   "source": [
    "# plot de distribuição por nivel de ensino\n",
    "fig, ax = plot.subplots(figsize = (18, 8))\n",
    "ax = sns.countplot(nivel_ensino, palette = \"Set2\", order = [\"Graduação/Bacharelado\", \"Pós-graduação\", \"Estudante de Graduação\", \n",
    "                                                        \"Mestrado\", \"Doutorado ou Phd\", \"Não tenho graduação formal\",\n",
    "                                                        \"Prefiro não informar\"])\n",
    "\n",
    "ax.set_xticklabels(ax.get_xticklabels(), fontsize = 15)\n",
    "plot.tight_layout()\n",
    "plot.show()"
   ]
  },
  {
   "cell_type": "markdown",
   "metadata": {},
   "source": [
    "### Faixa Salarial"
   ]
  },
  {
   "cell_type": "code",
   "execution_count": 40,
   "metadata": {},
   "outputs": [
    {
     "data": {
      "text/plain": [
       "0       de R$ 1.001/mês a R$ 2.000/mês\n",
       "1        de R$ 2.001/mês a R$ 3000/mês\n",
       "2       de R$ 4.001/mês a R$ 6.000/mês\n",
       "3       de R$ 1.001/mês a R$ 2.000/mês\n",
       "4       de R$ 6.001/mês a R$ 8.000/mês\n",
       "5       de R$ 3.001/mês a R$ 4.000/mês\n",
       "6       de R$ 6.001/mês a R$ 8.000/mês\n",
       "7      de R$ 8.001/mês a R$ 12.000/mês\n",
       "8        de R$ 2.001/mês a R$ 3000/mês\n",
       "9      de R$ 8.001/mês a R$ 12.000/mês\n",
       "10      de R$ 4.001/mês a R$ 6.000/mês\n",
       "11      de R$ 1.001/mês a R$ 2.000/mês\n",
       "12    de R$ 12.001/mês a R$ 16.000/mês\n",
       "13      de R$ 4.001/mês a R$ 6.000/mês\n",
       "14      de R$ 3.001/mês a R$ 4.000/mês\n",
       "15                                 NaN\n",
       "16     de R$ 8.001/mês a R$ 12.000/mês\n",
       "17               Menos de R$ 1.000/mês\n",
       "18                                 NaN\n",
       "19      de R$ 1.001/mês a R$ 2.000/mês\n",
       "Name: ('P16', 'salary_range'), dtype: object"
      ]
     },
     "execution_count": 40,
     "metadata": {},
     "output_type": "execute_result"
    }
   ],
   "source": [
    "salarios = data.iloc[:, 10]\n",
    "salarios.head(20)"
   ]
  },
  {
   "cell_type": "code",
   "execution_count": 42,
   "metadata": {},
   "outputs": [
    {
     "data": {
      "text/plain": [
       "238"
      ]
     },
     "execution_count": 42,
     "metadata": {},
     "output_type": "execute_result"
    }
   ],
   "source": [
    "# Verificando dados faltantes\n",
    "salarios.isna().sum()"
   ]
  },
  {
   "cell_type": "code",
   "execution_count": 43,
   "metadata": {},
   "outputs": [],
   "source": [
    "# Tratando valores missing\n",
    "salarios.dropna(inplace = True)"
   ]
  },
  {
   "cell_type": "code",
   "execution_count": 44,
   "metadata": {},
   "outputs": [
    {
     "data": {
      "text/plain": [
       "0"
      ]
     },
     "execution_count": 44,
     "metadata": {},
     "output_type": "execute_result"
    }
   ],
   "source": [
    "# Verificando dados faltantes\n",
    "salarios.isna().sum()"
   ]
  },
  {
   "cell_type": "code",
   "execution_count": 41,
   "metadata": {},
   "outputs": [
    {
     "data": {
      "text/plain": [
       "de R$ 4.001/mês a R$ 6.000/mês      0.201703\n",
       "de R$ 8.001/mês a R$ 12.000/mês     0.155206\n",
       "de R$ 6.001/mês a R$ 8.000/mês      0.149967\n",
       "de R$ 3.001/mês a R$ 4.000/mês      0.143418\n",
       "de R$ 1.001/mês a R$ 2.000/mês      0.118533\n",
       "de R$ 2.001/mês a R$ 3000/mês       0.098232\n",
       "de R$ 12.001/mês a R$ 16.000/mês    0.053700\n",
       "Menos de R$ 1.000/mês               0.031434\n",
       "de R$ 16.001/mês a R$ 20.000/mês    0.029470\n",
       "de R$ 20.001/mês a R$ 25.000/mês    0.009823\n",
       "Acima de R$ 25.001/mês              0.008513\n",
       "Name: ('P16', 'salary_range'), dtype: float64"
      ]
     },
     "execution_count": 41,
     "metadata": {},
     "output_type": "execute_result"
    }
   ],
   "source": [
    "# Frequencia de faixa salarial\n",
    "salarios.value_counts(\"de R$ 4.001/mês a R$ 6.000/mês\")"
   ]
  },
  {
   "cell_type": "markdown",
   "metadata": {},
   "source": [
    "***Aproximadamente 20,1% dos entrevistados ganham entre 4001 e 6000 reais***\n",
    "\n",
    "***Aproximadamente 15,5% dos entrevistados ganham entre 8001 e 12000 reais***\n",
    "\n",
    "***Aproximadamente 14.9% dos entrevistados ganham entre 6000 e 8000 reais***\n",
    "\n",
    "***Aproximadamente 14.3% dos entrevistados ganham entre 3000 e 4000 reais***\n",
    "\n",
    "***Aproximadamente 11.8% dos entrevistados ganham entre 1001 e 2000 reais***\n",
    "\n",
    "***Aproximadamente 9,8% dos entrevistados ganham entre 2001 e 3000 reais***\n",
    "\n",
    "***Aproximadamente 5.3% dos entrevistados ganham entre 12001 e 16000 reais***\n",
    "\n",
    "***Aproximadamente 3.1% dos entrevistados ganham menos de 1000 reais***\n",
    "\n",
    "***Aproximadamente 2.9% dos entrevistados ganham entre 16001 e 20000 reais***\n",
    "\n",
    "***Aproximadamente 0.9% dos entrevistados ganham entre 20001 e 25000 reais***\n",
    "\n",
    "***Aproximadamente 0.8% dos entrevistados ganham acima de 25000 reais***"
   ]
  },
  {
   "cell_type": "markdown",
   "metadata": {},
   "source": [
    "### Tempo de Experiencia na área de Dados"
   ]
  },
  {
   "cell_type": "code",
   "execution_count": 119,
   "metadata": {},
   "outputs": [
    {
     "data": {
      "text/plain": [
       "0    Não tive experiência na área de TI/Engenharia ...\n",
       "1    Não tive experiência na área de TI/Engenharia ...\n",
       "2                                       de 6 a 10 anos\n",
       "3                                        de 2 a 3 anos\n",
       "4                                        de 4 a 5 anos\n",
       "5                                        de 4 a 5 anos\n",
       "6                                       Menos de 1 ano\n",
       "7    Não tive experiência na área de TI/Engenharia ...\n",
       "8                                        de 2 a 3 anos\n",
       "9                                       de 6 a 10 anos\n",
       "Name: ('P18', 'time_experience_before'), dtype: object"
      ]
     },
     "execution_count": 119,
     "metadata": {},
     "output_type": "execute_result"
    }
   ],
   "source": [
    "experiencia_anterior = data.iloc[:,12]\n",
    "experiencia_anterior.head(10)"
   ]
  },
  {
   "cell_type": "code",
   "execution_count": 102,
   "metadata": {},
   "outputs": [
    {
     "data": {
      "text/plain": [
       "0"
      ]
     },
     "execution_count": 102,
     "metadata": {},
     "output_type": "execute_result"
    }
   ],
   "source": [
    "# valores NaN´s\n",
    "experiencia_anterior.isna().sum()"
   ]
  },
  {
   "cell_type": "code",
   "execution_count": 131,
   "metadata": {},
   "outputs": [
    {
     "data": {
      "text/plain": [
       "Não tive experiência na área de TI/Engenharia de Software antes de começar a trabalhar na área de dados    555\n",
       "Menos de 1 ano                                                                                             333\n",
       "de 1 a 2 anos                                                                                              210\n",
       "de 6 a 10 anos                                                                                             188\n",
       "Mais de 10 anos                                                                                            181\n",
       "de 4 a 5 anos                                                                                              161\n",
       "de 2 a 3 anos                                                                                              137\n",
       "Name: ('P18', 'time_experience_before'), dtype: int64"
      ]
     },
     "execution_count": 131,
     "metadata": {},
     "output_type": "execute_result"
    }
   ],
   "source": [
    "experiencia_anterior.value_counts()"
   ]
  },
  {
   "cell_type": "markdown",
   "metadata": {},
   "source": [
    "### Linguagens de Programação"
   ]
  },
  {
   "cell_type": "code",
   "execution_count": 141,
   "metadata": {},
   "outputs": [
    {
     "data": {
      "text/plain": [
       "0    0\n",
       "1    0\n",
       "2    0\n",
       "3    0\n",
       "4    0\n",
       "Name: ('P21', 'r'), dtype: int64"
      ]
     },
     "execution_count": 141,
     "metadata": {},
     "output_type": "execute_result"
    }
   ],
   "source": [
    "r_language = data.iloc[:,36]\n",
    "r_language.head()"
   ]
  },
  {
   "cell_type": "code",
   "execution_count": 145,
   "metadata": {},
   "outputs": [
    {
     "data": {
      "text/plain": [
       "0"
      ]
     },
     "execution_count": 145,
     "metadata": {},
     "output_type": "execute_result"
    }
   ],
   "source": [
    "# Valores Missing\n",
    "r_language.isnull().sum()"
   ]
  },
  {
   "cell_type": "code",
   "execution_count": 163,
   "metadata": {},
   "outputs": [],
   "source": [
    "nao_usuarios_r = []\n",
    "usuarios_r = []\n",
    "for valor in list(r_language):\n",
    "    if valor == 1:\n",
    "        usuarios_r.append(valor)\n",
    "    else:\n",
    "        nao_usuarios_r.append(valor)"
   ]
  },
  {
   "cell_type": "code",
   "execution_count": 174,
   "metadata": {},
   "outputs": [
    {
     "name": "stdout",
     "output_type": "stream",
     "text": [
      "Porcentagem de Pessoas que utilizam R: 18.0 %\n"
     ]
    }
   ],
   "source": [
    "# Porcentegem de entrevistados que usam R\n",
    "rPercent1 = (len(usuarios_r) / (r_language.count())) * 100\n",
    "print(\"Porcentagem de Pessoas que utilizam R:\", round(rPercent1), \"%\")"
   ]
  },
  {
   "cell_type": "code",
   "execution_count": 173,
   "metadata": {},
   "outputs": [
    {
     "name": "stdout",
     "output_type": "stream",
     "text": [
      "Porcentagem de Pessoas não que utilizam R: 82.0 %\n"
     ]
    }
   ],
   "source": [
    "# Porcentegem de entrevistados que nao usam R\n",
    "rPercent2 = (len(nao_usuarios_r) / (r_language.count())) * 100\n",
    "print(\"Porcentagem de Pessoas não que utilizam R:\", round(rPercent2), \"%\")"
   ]
  },
  {
   "cell_type": "code",
   "execution_count": 250,
   "metadata": {},
   "outputs": [
    {
     "data": {
      "image/png": "[encoded data removed]",
      "text/plain": [
       "<Figure size 720x360 with 1 Axes>"
      ]
     },
     "metadata": {},
     "output_type": "display_data"
    }
   ],
   "source": [
    "# Plot\n",
    "fig, ax = plot.subplots(figsize = (10,5))\n",
    "\n",
    "ax.hist(r_language)\n",
    "ax.set_xlabel(\"Valores\")\n",
    "ax.set_ylabel(\"Contagem\")\n",
    "ax.set_title(\"Participantes que não usam R vs Pessoas que usam R\")\n",
    "\n",
    "fig.tight_layout()\n",
    "plot.show()"
   ]
  },
  {
   "cell_type": "code",
   "execution_count": 142,
   "metadata": {},
   "outputs": [
    {
     "data": {
      "text/plain": [
       "0    0\n",
       "1    1\n",
       "2    1\n",
       "3    1\n",
       "4    1\n",
       "Name: ('P21', 'python'), dtype: int64"
      ]
     },
     "execution_count": 142,
     "metadata": {},
     "output_type": "execute_result"
    }
   ],
   "source": [
    "python_language = data.iloc[:,37]\n",
    "python_language.head()"
   ]
  },
  {
   "cell_type": "code",
   "execution_count": 146,
   "metadata": {},
   "outputs": [
    {
     "data": {
      "text/plain": [
       "0"
      ]
     },
     "execution_count": 146,
     "metadata": {},
     "output_type": "execute_result"
    }
   ],
   "source": [
    "# Valores Missing\n",
    "python_language.isnull().sum()"
   ]
  },
  {
   "cell_type": "code",
   "execution_count": 175,
   "metadata": {},
   "outputs": [],
   "source": [
    "nao_usuarios_python = []\n",
    "usuarios_python = []\n",
    "for valor in list(python_language):\n",
    "    if valor == 1:\n",
    "        usuarios_python.append(valor)\n",
    "    else:\n",
    "        nao_usuarios_python.append(valor)"
   ]
  },
  {
   "cell_type": "code",
   "execution_count": 177,
   "metadata": {},
   "outputs": [
    {
     "name": "stdout",
     "output_type": "stream",
     "text": [
      "Porcentagem de Pessoas que utilizam Python: 44.0 %\n"
     ]
    }
   ],
   "source": [
    "# Porcentegem de entrevistados que usam Python\n",
    "pythonPercent1 = (len(usuarios_python) / (python_language.count())) * 100\n",
    "print(\"Porcentagem de Pessoas que utilizam Python:\", round(pythonPercent1), \"%\")"
   ]
  },
  {
   "cell_type": "code",
   "execution_count": 179,
   "metadata": {},
   "outputs": [
    {
     "name": "stdout",
     "output_type": "stream",
     "text": [
      "Porcentagem de Pessoas que não utilizam Python: 56.0 %\n"
     ]
    }
   ],
   "source": [
    "# Porcentegem de entrevistados que nao usam Python\n",
    "pythonPercent2 = (len(nao_usuarios_python) / (python_language.count())) * 100\n",
    "print(\"Porcentagem de Pessoas que não utilizam Python:\", round(pythonPercent2), \"%\")"
   ]
  },
  {
   "cell_type": "code",
   "execution_count": 239,
   "metadata": {},
   "outputs": [
    {
     "data": {
      "image/png": "[encoded data removed]",
      "text/plain": [
       "<Figure size 720x360 with 1 Axes>"
      ]
     },
     "metadata": {},
     "output_type": "display_data"
    }
   ],
   "source": [
    "# Plot\n",
    "fig, ax = plot.subplots(figsize = (10,5))\n",
    "\n",
    "ax.hist(python_language)\n",
    "ax.set_xlabel(\"Valores\")\n",
    "ax.set_ylabel(\"Contagem\")\n",
    "ax.set_title(\"Participantes que usam Python vs Pessoas que nao usam Python\")\n",
    "\n",
    "fig.tight_layout()\n",
    "plot.show()"
   ]
  },
  {
   "cell_type": "code",
   "execution_count": null,
   "metadata": {},
   "outputs": [],
   "source": []
  }
 ],
 "metadata": {
  "kernelspec": {
   "display_name": "Python 3",
   "language": "python",
   "name": "python3"
  },
  "language_info": {
   "codemirror_mode": {
    "name": "ipython",
    "version": 3
   },
   "file_extension": ".py",
   "mimetype": "text/x-python",
   "name": "python",
   "nbconvert_exporter": "python",
   "pygments_lexer": "ipython3",
   "version": "3.7.3"
  }
 },
 "nbformat": 4,
 "nbformat_minor": 2
}
